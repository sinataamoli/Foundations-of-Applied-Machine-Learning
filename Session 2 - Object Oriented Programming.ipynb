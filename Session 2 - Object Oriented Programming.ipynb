{
 "cells": [
  {
   "cell_type": "markdown",
   "id": "bcde7ca3",
   "metadata": {},
   "source": [
    "---\n",
    "# <center> **Foundations of Applied Machine Learning**\n",
    "## <center> Summer 2024\n",
    "\n",
    "### <center> **Prof. Bahram Mobasher**\n",
    "### <center> Teaching Assistant: **[Sina Taamoli](https://sinataamoli.github.io/)** | email: *sina.taamoli@email.ucr.edu* | [Course webpage](https://github.com/sinataamoli/Foundations-of-Applied-Machine-Learning)\n",
    "### <center> Week 2 (July 11th): Object Oriented Programming\n",
    "---"
   ]
  },
  {
   "cell_type": "markdown",
   "id": "3d6d0604",
   "metadata": {},
   "source": [
    "## Homework 1"
   ]
  },
  {
   "cell_type": "code",
   "execution_count": 17,
   "id": "6ba1c124",
   "metadata": {},
   "outputs": [],
   "source": [
    "def Fib_rec(n):\n",
    "    if n == 0:\n",
    "        return 1\n",
    "    elif n ==1:\n",
    "        return 1\n",
    "    else:\n",
    "        return Fib_rec(n-1) + Fib_rec(n-2)"
   ]
  },
  {
   "cell_type": "code",
   "execution_count": 18,
   "id": "89b4d2cb",
   "metadata": {},
   "outputs": [
    {
     "data": {
      "text/plain": [
       "3"
      ]
     },
     "execution_count": 18,
     "metadata": {},
     "output_type": "execute_result"
    }
   ],
   "source": [
    "Fib_rec(3)"
   ]
  },
  {
   "cell_type": "code",
   "execution_count": 19,
   "id": "db72f2ff",
   "metadata": {},
   "outputs": [],
   "source": [
    "def Fib_for(n):\n",
    "    if n == 0:\n",
    "        return 1\n",
    "    \n",
    "    elif n ==1:\n",
    "        return 1\n",
    "    \n",
    "    else:\n",
    "        sequence = []\n",
    "        sequence.append(1)\n",
    "        sequence.append(1)\n",
    "        for i in range(2, n + 1):\n",
    "            i_th = sequence[i-1] + sequence [i-2]\n",
    "            sequence.append(i_th)\n",
    "            \n",
    "    return sequence[n]"
   ]
  },
  {
   "cell_type": "code",
   "execution_count": 20,
   "id": "48b6255a",
   "metadata": {},
   "outputs": [
    {
     "data": {
      "text/plain": [
       "8"
      ]
     },
     "execution_count": 20,
     "metadata": {},
     "output_type": "execute_result"
    }
   ],
   "source": [
    "Fib_for(5)"
   ]
  },
  {
   "cell_type": "code",
   "execution_count": 21,
   "id": "1c3498b4",
   "metadata": {},
   "outputs": [],
   "source": [
    "import time\n",
    "\n",
    "def timer(func, k, n):\n",
    "    time_diff = []\n",
    "    for i in range(0, k):\n",
    "        time1 = time.time()\n",
    "        func(n)\n",
    "        time2 = time.time()\n",
    "        time_diff.append(time2 - time1)\n",
    "    \n",
    "    return sum(time_diff) / len(time_diff)"
   ]
  },
  {
   "cell_type": "code",
   "execution_count": 22,
   "id": "226067d4",
   "metadata": {},
   "outputs": [
    {
     "data": {
      "text/plain": [
       "6.678104400634766e-06"
      ]
     },
     "execution_count": 22,
     "metadata": {},
     "output_type": "execute_result"
    }
   ],
   "source": [
    "timer(Fib_for, 1000, 10)"
   ]
  },
  {
   "cell_type": "code",
   "execution_count": 23,
   "id": "af334716",
   "metadata": {},
   "outputs": [
    {
     "data": {
      "text/plain": [
       "3.035879135131836e-05"
      ]
     },
     "execution_count": 23,
     "metadata": {},
     "output_type": "execute_result"
    }
   ],
   "source": [
    "timer(Fib_rec, 1000, 10)"
   ]
  },
  {
   "cell_type": "markdown",
   "id": "bc3352ee",
   "metadata": {},
   "source": [
    "## ========================\n",
    "## Object Oriented Programming\n",
    "## ========================\n",
    "\n",
    "**Object-Oriented Programming (OOP)** is a programming paradigm that organizes software design around data, or objects, rather than functions and logic. An object is a collection of data (attributes) and methods (functions) that act on the data. OOP concepts help in making the code more modular, reusable, and easier to manage. <br>\n",
    "\n",
    "**Key Concepts of OOP** <br>\n",
    "- Class: A blueprint for creating objects. It defines a set of attributes and methods that the created objects will have. <br>\n",
    "- Object: An instance of a class. It represents an entity with attributes and behavior defined by its class. <br>\n",
    "- Attributes: Variables that hold data specific to an object. <br>\n",
    "- Methods: Functions defined within a class that describe the behaviors of the objects. <br>\n",
    "\n",
    "**Python Classes and Components**\n",
    "- Class Definition: The class keyword is used to define a class. <br>\n",
    "- Attributes: These are variables that belong to the class and its objects. <br>\n",
    "- Methods: These are functions that belong to the class and define behaviors of the objects. <br>\n",
    "- Initializer (__init__ method): A special method that is called when an object is instantiated. It initializes the object's attributes. <br>"
   ]
  },
  {
   "cell_type": "markdown",
   "id": "6202c652",
   "metadata": {},
   "source": [
    "#### Example 1"
   ]
  },
  {
   "cell_type": "code",
   "execution_count": 24,
   "id": "e416c2a6",
   "metadata": {},
   "outputs": [],
   "source": [
    "class Dog:\n",
    "    # class attributes\n",
    "    species = 'Canis familiaris'\n",
    "    \n",
    "    # Initializer / Instance Attributes\n",
    "    def __init__(self, name, age):\n",
    "        self.name = name\n",
    "        self.age = age\n",
    "    \n",
    "    # Instance Method 1\n",
    "    def description(self):\n",
    "        return f\"{self.name} is {self.age} years old\"\n",
    "    \n",
    "    # Instance Method 2\n",
    "    def speak(self, sound):\n",
    "        return f\"{self.name} says {sound}\""
   ]
  },
  {
   "cell_type": "code",
   "execution_count": 25,
   "id": "0d071622",
   "metadata": {},
   "outputs": [],
   "source": [
    "dog_1 = Dog(\"Buddy\", 3)"
   ]
  },
  {
   "cell_type": "code",
   "execution_count": 26,
   "id": "73ef722d",
   "metadata": {},
   "outputs": [
    {
     "name": "stdout",
     "output_type": "stream",
     "text": [
      "Canis familiaris\n"
     ]
    }
   ],
   "source": [
    "# Access the class attributes\n",
    "print(dog_1.species)"
   ]
  },
  {
   "cell_type": "code",
   "execution_count": 27,
   "id": "902f3a68",
   "metadata": {},
   "outputs": [
    {
     "name": "stdout",
     "output_type": "stream",
     "text": [
      "Buddy\n",
      "3\n"
     ]
    }
   ],
   "source": [
    "# Access the instance attributes\n",
    "print(dog_1.name)\n",
    "print(dog_1.age)"
   ]
  },
  {
   "cell_type": "code",
   "execution_count": 29,
   "id": "d3725786",
   "metadata": {},
   "outputs": [
    {
     "name": "stdout",
     "output_type": "stream",
     "text": [
      "Buddy is 3 years old\n"
     ]
    }
   ],
   "source": [
    "# Call the instance methods\n",
    "print(dog_1.description())"
   ]
  },
  {
   "cell_type": "code",
   "execution_count": 30,
   "id": "e9fb0213",
   "metadata": {},
   "outputs": [
    {
     "name": "stdout",
     "output_type": "stream",
     "text": [
      "Buddy says Wood Woof\n"
     ]
    }
   ],
   "source": [
    "print(dog_1.speak(\"Wood Woof\"))"
   ]
  },
  {
   "cell_type": "markdown",
   "id": "0eac3b2a",
   "metadata": {},
   "source": [
    "#### Example 2"
   ]
  },
  {
   "cell_type": "code",
   "execution_count": 44,
   "id": "01c6d533",
   "metadata": {},
   "outputs": [],
   "source": [
    "class Polynomial:\n",
    "    def __init__(self, coef):\n",
    "        self.coef = coef\n",
    "        \n",
    "    def value(self, x):\n",
    "        self.x = 0\n",
    "        for i, c in enumerate(self.coef):\n",
    "            self.x += c * pow(x, i)\n",
    "        return self.x\n",
    "    \n",
    "    def __repr__(self):\n",
    "        string = \"\"\n",
    "        for i, c in enumerate(self.coef):\n",
    "            if c == 0:\n",
    "                continue\n",
    "            string = string + \" \" + str(c) + \" * x^\" + str(i)\n",
    "            if i != len(self.coef)-1:\n",
    "                string = string + \" + \"\n",
    "        return string"
   ]
  },
  {
   "cell_type": "code",
   "execution_count": 45,
   "id": "7505c685",
   "metadata": {},
   "outputs": [],
   "source": [
    "p1 = Polynomial([1, 1, 1, 1])"
   ]
  },
  {
   "cell_type": "code",
   "execution_count": 46,
   "id": "92d897c9",
   "metadata": {},
   "outputs": [
    {
     "data": {
      "text/plain": [
       "15"
      ]
     },
     "execution_count": 46,
     "metadata": {},
     "output_type": "execute_result"
    }
   ],
   "source": [
    "p1.value(2)"
   ]
  },
  {
   "cell_type": "code",
   "execution_count": 47,
   "id": "4d9025b9",
   "metadata": {},
   "outputs": [
    {
     "data": {
      "text/plain": [
       " 1 * x^0 +  1 * x^1 +  1 * x^2 +  1 * x^3"
      ]
     },
     "execution_count": 47,
     "metadata": {},
     "output_type": "execute_result"
    }
   ],
   "source": [
    "p1"
   ]
  },
  {
   "cell_type": "markdown",
   "id": "4dba5648",
   "metadata": {},
   "source": [
    "## =================================\n",
    "## Introduction to Probabilistic Programming\n",
    "## =================================\n",
    "Probabilistic Programming is a programming paradigm designed to deal with uncertainty in data and models. It allows us to define complex probabilistic models and perform inference in these models to make predictions or understand the data better. Probabilistic programming languages and tools provide a framework for specifying probabilistic models in a concise and understandable way. <br>\n",
    "\n",
    "**Key Concepts:** <br>\n",
    "- Probability Distributions: Mathematical functions that describe the likelihood of different outcomes. <br>\n",
    "- Bayesian Inference: A method of statistical inference that updates the probability for a hypothesis as more evidence or information becomes available. <br>\n",
    "- Probabilistic Models: Models that incorporate uncertainty by defining distributions over variables. <br>"
   ]
  },
  {
   "cell_type": "code",
   "execution_count": 48,
   "id": "6c83cc6c",
   "metadata": {},
   "outputs": [],
   "source": [
    "import numpy as np\n",
    "import matplotlib.pyplot as plt\n",
    "\n",
    "# font parameters dictionary\n",
    "font = {'family' : 'serif',\n",
    "        'weight' : 'bold',\n",
    "        'size'   : 25,}\n",
    "\n",
    "\n",
    "# figure parameters dictionary\n",
    "figure = {\"figsize\" : (6,6),\n",
    "          \"dpi\" : 120,\n",
    "          \"facecolor\" : \"w\", \n",
    "          \"edgecolor\" : \"k\",}\n",
    "\n",
    "\n",
    "\n",
    "# use LaTeX fonts in the plot\n",
    "plt.rc('text', usetex=True)\n",
    "\n",
    "# Set the font parameters\n",
    "plt.rc('font', **font) "
   ]
  },
  {
   "cell_type": "markdown",
   "id": "df7fa9e2",
   "metadata": {},
   "source": [
    "First, we need a gaussian function. We can use built-in functions in numpy for getting a gaussian function. However, let's define it ourself  as a practice:"
   ]
  },
  {
   "cell_type": "code",
   "execution_count": 80,
   "id": "6a4987f0",
   "metadata": {},
   "outputs": [],
   "source": [
    "def Gaussian_prob(x, _mu = 0, _sigma = 1):\n",
    "    \"\"\" \n",
    "    Gaussian Distribution\n",
    "    \n",
    "    Probability of getting x given mu and sigma\n",
    "    \n",
    "    \"\"\"\n",
    "    return (1/np.sqrt(2*np.pi*_sigma**2))*np.exp(-(x-_mu)**2/(2*_sigma**2))"
   ]
  },
  {
   "cell_type": "code",
   "execution_count": 50,
   "id": "365ea5cf",
   "metadata": {},
   "outputs": [],
   "source": [
    "x_span = np.linspace(0, 20, 1000)\n",
    "mu, sigma = 10, 5\n",
    "prob = [Gaussian_prob(x, mu, sigma) for x in x_span]"
   ]
  },
  {
   "cell_type": "markdown",
   "id": "aa23cc32",
   "metadata": {},
   "source": [
    "Another equivalent way of doing the above but using the numpy arrays."
   ]
  },
  {
   "cell_type": "code",
   "execution_count": 51,
   "id": "95bebe1b",
   "metadata": {},
   "outputs": [
    {
     "data": {
      "image/png": "[encoded data removed]",
      "text/plain": [
       "<Figure size 576x576 with 1 Axes>"
      ]
     },
     "metadata": {
      "needs_background": "light"
     },
     "output_type": "display_data"
    }
   ],
   "source": [
    "plt.figure(figsize=(8,8))\n",
    "plt.plot(x_span, prob_list)\n",
    "\n",
    "plt.title(\"Gaussian Distribution for $\\mu=$ {} , and $\\sigma=$ {}\".format(mu, sigma))\n",
    "plt.xlabel(r\"x\")\n",
    "plt.ylabel(r\"$P(x|\\mu, \\sigma)$\")\n",
    "\n",
    "plt.show()"
   ]
  },
  {
   "cell_type": "markdown",
   "id": "43090fa3",
   "metadata": {},
   "source": [
    "<hr>\n",
    "\n",
    "## **Particle X** \n",
    "### What is the **True** mass of the newly discovered X particle?\n",
    "\n",
    "<hr>"
   ]
  },
  {
   "cell_type": "markdown",
   "id": "fccc6308",
   "metadata": {},
   "source": [
    "Imagine that you are a Primary investigator for one particular experiment done at the [**CERN**](https://home.cern/) (The world's most powerful particle accelerator). There was a new experiment that led to the discovery of particle X. But, there has been a lot of debate about the actual mass of the particle. So, you asked **ATLAS** and **CMS** team to measure the mass of the particle entirely separate from each other. (These are two different detectors at CERN) They gave you the following results for the mass and the corresponding error. (in  an unknown unit!!!)\n",
    "\n",
    "\n",
    "$$\n",
    "\\begin{gather}\n",
    "M_{ATLAS} = 10.12 \\pm 3.7 \\\\\n",
    "M_{CMS} = 7.42 \\pm 1.6\n",
    "\\end{gather}\n",
    "$$"
   ]
  },
  {
   "cell_type": "code",
   "execution_count": 81,
   "id": "ae14aef0",
   "metadata": {},
   "outputs": [],
   "source": [
    "mass_atlas, mass_err_atlas = 10.12, 3.7\n",
    "mass_cms, mass_err_cms = 7.42, 1.6"
   ]
  },
  {
   "cell_type": "markdown",
   "id": "300c04fc",
   "metadata": {},
   "source": [
    "You have to hold a news conference to announce the discovery as well as the measured mass. So, how can you find the value for the actual mass of the particle? In other words, how can you find this value, using **all** the information about these two measurements?"
   ]
  },
  {
   "cell_type": "markdown",
   "id": "d47060a3",
   "metadata": {},
   "source": [
    "The easiest way that comes to mind is to report the average of these values as the best representation of the **True** value of the mass:"
   ]
  },
  {
   "cell_type": "code",
   "execution_count": 82,
   "id": "0120541f",
   "metadata": {},
   "outputs": [
    {
     "name": "stdout",
     "output_type": "stream",
     "text": [
      "8.77\n"
     ]
    }
   ],
   "source": [
    "mass_average = (mass_atlas + mass_cms)/2\n",
    "print(mass_average)"
   ]
  },
  {
   "cell_type": "markdown",
   "id": "8199bfc3",
   "metadata": {},
   "source": [
    "#### <span style=\"color:red\">_But there is huge problem with this analysis!!!_</span>\n",
    "\n",
    "The lead investigator of the CMS team calls you and asks for an explanation for your decision to report the average. Since he argues that the measurement done by the ATLAS team is not as valid as the CMS team since the ATLAS team has much higher uncertainty in their experiment. But in your analysis, you are giving both these measurements the same weight by averaging them. **How can you take into account the difference in uncertainty in your report?**"
   ]
  },
  {
   "cell_type": "markdown",
   "id": "4da74378",
   "metadata": {},
   "source": [
    "$ X_1 $: mass_atlas, mass_err_atlas  \n",
    "$ X_2 $: mass_cms, mass_err_cms  "
   ]
  },
  {
   "cell_type": "markdown",
   "id": "4ac8a443",
   "metadata": {},
   "source": [
    "Basically, what is the $p(m_X|X_1, X_2)$ (probability distribution of the mass of X given two sets of measurements ($X_1, X_2$))?"
   ]
  },
  {
   "cell_type": "markdown",
   "id": "27aa8255",
   "metadata": {},
   "source": [
    "> “Probability is orderly opinion and inference from data is nothing other than the revision of such opinion in the light of relevant new information.” \n",
    ">\n",
    "> -- <cite>*Eliezer S. Yudkowsky*</cite> "
   ]
  },
  {
   "cell_type": "markdown",
   "id": "7c253aeb",
   "metadata": {},
   "source": [
    "### **Thomas Bayes**' theorem to the rescue!!  (Thanks to Laplace's later rediscovey)\n",
    "Luckily we can approach this problem in a Bayesian framework, which lets us update our belief (knowledge/information) in a consistent way when we get new information. The Bayesian outlook is far is far broader than a restriction imposed by a frequentist outlook. For example, when someone tries to measure the lenght of the table, assumes the lenght to be have some true value and she only can measure the lenght with some noise that should be modeled later. However, in a Bayesian approach she will look at the lenght of the table as an intrinsically a random variable with a particular distribution and the process of measurement is only and updated version of the prior belief in the lenght of the table. The frequentist is restricted to the domain in which several number of experiment can be done and the true value of a measure will emerge after several rounds of experiments. For example, the fairness of the coin can be measured by having n experiment and counting the number of heads to n when n goes to infinity. But what about our degree of belief about the Big Bang as the main cosmological scenario of the emeregence of the universe? We don't have enough experiment to talk about a frequency of such phenomena so the frequentist have to suspend jugdement about the chances of the validity of this theory; in oppose to the Bayesian who can not only talk about such degree of belief but rather update it in light of a new data. "
   ]
  },
  {
   "cell_type": "markdown",
   "id": "ce562be1",
   "metadata": {},
   "source": [
    "According to Bayes:\n",
    "$p(m_X|X_1, X_2) \\varpropto p(X_1, X_2|m_X)$ \n",
    "or more precisely:\n",
    "$$\n",
    "\\begin{equation}\n",
    "p(X|Y) = \\frac{P(Y|X)P(X)}{P(Y)}\n",
    "\\end{equation}\n",
    "$$\n",
    "Now things are much easier to handle since we can assume some models for $ p(X_1, X_2|m_X)$. (We don't need to take care about the normalization here, we are going to get there next week)\n",
    "\n",
    "### **First let's make some assumptions:**\n",
    "#### **1. Bayesian statistics works!**\n",
    "#### **2. The measurements are independent. $ p(X_1, X_2|m_X) = p(X_1|m_X)*p(X_2|m_X)$**\n",
    "#### **3. Measurements follow a random Gaussian distribution. $PDF(m_{measured})=Gaussian(m_{measured}, \\sigma_{measured})$**\n",
    "#### **4. We have no other information about $m_X$, so we can assume the simplest form which is uniform (tophat) probability distribution (prior) for this quantity. (quantity that we are looking for)**\n",
    "\n"
   ]
  },
  {
   "cell_type": "markdown",
   "id": "5f123cca",
   "metadata": {},
   "source": [
    "**Let's calculate the $p(X_1|m_X)$ for different values of $m_X$:**"
   ]
  },
  {
   "cell_type": "markdown",
   "id": "7b29bb69",
   "metadata": {},
   "source": [
    "Start by sampling potential values for m_X:"
   ]
  },
  {
   "cell_type": "code",
   "execution_count": 83,
   "id": "7cce9d3e",
   "metadata": {},
   "outputs": [],
   "source": [
    "m_X_span = np.arange(0, 25, 0.001)"
   ]
  },
  {
   "cell_type": "markdown",
   "id": "6c739b8e",
   "metadata": {},
   "source": [
    "Making two arrays of zeros for storing the probabilities"
   ]
  },
  {
   "cell_type": "code",
   "execution_count": 86,
   "id": "761a88d6",
   "metadata": {},
   "outputs": [],
   "source": [
    "prob_atlas = np.zeros(len(m_X_span))\n",
    "prob_cms = np.zeros(len(m_X_span))"
   ]
  },
  {
   "cell_type": "markdown",
   "id": "17d4f105",
   "metadata": {},
   "source": [
    "Building the joint pdf [p(X1, X2)]"
   ]
  },
  {
   "cell_type": "code",
   "execution_count": 87,
   "id": "186e8334",
   "metadata": {},
   "outputs": [],
   "source": [
    "for i, m in enumerate(m_X_span):\n",
    "    prob_atlas[i] = Gaussian_prob(mass_atlas, _mu = m, _sigma = mass_err_atlas)\n",
    "    prob_cms[i] = Gaussian_prob(mass_cms, _mu = m, _sigma = mass_err_cms)"
   ]
  },
  {
   "cell_type": "markdown",
   "id": "11f7c0fa",
   "metadata": {},
   "source": [
    "Finding the joint distribution"
   ]
  },
  {
   "cell_type": "code",
   "execution_count": 88,
   "id": "2e84c580",
   "metadata": {},
   "outputs": [],
   "source": [
    "joint_prob = prob_atlas * prob_cms"
   ]
  },
  {
   "cell_type": "markdown",
   "id": "9411f05f",
   "metadata": {},
   "source": [
    "Since we use the Uniform  prior for $m_X$, it is very easy to find the normalization; we can sum over all the elements of the probability vector:"
   ]
  },
  {
   "cell_type": "code",
   "execution_count": 89,
   "id": "d9f90ec1",
   "metadata": {},
   "outputs": [],
   "source": [
    "Normalization = len(m_X_span) / (sum(joint_prob) * (max(m_X_span) - min(m_X_span)))\n",
    "joint_prob_normalized = joint_prob * Normalization"
   ]
  },
  {
   "cell_type": "markdown",
   "id": "199dfab1",
   "metadata": {},
   "source": [
    "Finding the mass corresponding to the highest probability. (So this is the most probable value)"
   ]
  },
  {
   "cell_type": "code",
   "execution_count": 90,
   "id": "01f12a7b",
   "metadata": {},
   "outputs": [],
   "source": [
    "m_X_max_prob = m_X_span[joint_prob==max(joint_prob)]"
   ]
  },
  {
   "cell_type": "markdown",
   "id": "2b3a624a",
   "metadata": {},
   "source": [
    "Plotting the pdf for the two measurements + joint pdf normalized and unnormalized:\n",
    "                                                                                    "
   ]
  },
  {
   "cell_type": "code",
   "execution_count": 92,
   "id": "43449cb3",
   "metadata": {},
   "outputs": [
    {
     "data": {
      "image/png": "[encoded data removed]",
      "text/plain": [
       "<Figure size 576x576 with 1 Axes>"
      ]
     },
     "metadata": {
      "needs_background": "light"
     },
     "output_type": "display_data"
    }
   ],
   "source": [
    "plt.figure(figsize=(8,8))\n",
    "\n",
    "plt.plot(m_X_span, prob_atlas, label=\"ATLAS detector\")\n",
    "plt.plot(m_X_span, prob_cms, label=\"CMS detector\")\n",
    "\n",
    "plt.plot(m_X_span, joint_prob_normalized, label=\"Joint pdf (Normalized)\")\n",
    "plt.plot(m_X_span, joint_prob, label=\"Joint pdf (Not normalized)\")\n",
    "plt.vlines(mass_average, 0, 0.27, linestyles=\"dashed\", label=\"Average of ATLAS and CMS\")\n",
    "\n",
    "plt.title(r\"Probability Distribution Function\")\n",
    "plt.xlabel(r\"$m_X$\")\n",
    "plt.ylabel(r\"Probability\")\n",
    "\n",
    "plt.legend(fontsize=15)\n",
    "plt.show()"
   ]
  },
  {
   "cell_type": "markdown",
   "id": "23be2787",
   "metadata": {},
   "source": [
    "**As you can see in the plot the joint pdf is much closer to the CMS team results rather than ATLAS team measurement; which was expected from their uncertainties. This is the value of mass you can report:**"
   ]
  },
  {
   "cell_type": "code",
   "execution_count": 93,
   "id": "0db7e665",
   "metadata": {},
   "outputs": [
    {
     "name": "stdout",
     "output_type": "stream",
     "text": [
      "[7.845]\n"
     ]
    }
   ],
   "source": [
    "print(m_X_max_prob)"
   ]
  }
 ],
 "metadata": {
  "kernelspec": {
   "display_name": "Python 3",
   "language": "python",
   "name": "python3"
  },
  "language_info": {
   "codemirror_mode": {
    "name": "ipython",
    "version": 3
   },
   "file_extension": ".py",
   "mimetype": "text/x-python",
   "name": "python",
   "nbconvert_exporter": "python",
   "pygments_lexer": "ipython3",
   "version": "3.8.8"
  }
 },
 "nbformat": 4,
 "nbformat_minor": 5
}
